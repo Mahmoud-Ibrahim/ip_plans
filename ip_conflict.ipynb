{
 "cells": [
  {
   "cell_type": "code",
   "execution_count": 9,
   "metadata": {
    "collapsed": true
   },
   "outputs": [],
   "source": [
    "import pandas as pd"
   ]
  },
  {
   "cell_type": "code",
   "execution_count": 17,
   "metadata": {
    "collapsed": false
   },
   "outputs": [],
   "source": [
    "Data=pd.read_csv('ip_list.csv',sep=',')\n"
   ]
  },
  {
   "cell_type": "code",
   "execution_count": 18,
   "metadata": {
    "collapsed": false
   },
   "outputs": [
    {
     "data": {
      "text/html": [
       "<div>\n",
       "<table border=\"1\" class=\"dataframe\">\n",
       "  <thead>\n",
       "    <tr style=\"text-align: right;\">\n",
       "      <th></th>\n",
       "      <th>id</th>\n",
       "      <th>network_ip</th>\n",
       "      <th>account_number</th>\n",
       "      <th>name</th>\n",
       "      <th>phone</th>\n",
       "      <th>allocated_subnet_id</th>\n",
       "    </tr>\n",
       "  </thead>\n",
       "  <tbody>\n",
       "    <tr>\n",
       "      <th>0</th>\n",
       "      <td>2</td>\n",
       "      <td>192.168.0.22/28</td>\n",
       "      <td>12334</td>\n",
       "      <td>Mohamad</td>\n",
       "      <td>NaN</td>\n",
       "      <td>636</td>\n",
       "    </tr>\n",
       "    <tr>\n",
       "      <th>1</th>\n",
       "      <td>3</td>\n",
       "      <td>192.168.3.223/32</td>\n",
       "      <td>3413241</td>\n",
       "      <td>Ahmad</td>\n",
       "      <td>NaN</td>\n",
       "      <td>636</td>\n",
       "    </tr>\n",
       "    <tr>\n",
       "      <th>2</th>\n",
       "      <td>4</td>\n",
       "      <td>192.168.0.25/28</td>\n",
       "      <td>314562</td>\n",
       "      <td>mahmoud</td>\n",
       "      <td>NaN</td>\n",
       "      <td>636</td>\n",
       "    </tr>\n",
       "  </tbody>\n",
       "</table>\n",
       "</div>"
      ],
      "text/plain": [
       "   id        network_ip  account_number     name  phone  allocated_subnet_id\n",
       "0   2   192.168.0.22/28           12334  Mohamad    NaN                  636\n",
       "1   3  192.168.3.223/32         3413241    Ahmad    NaN                  636\n",
       "2   4   192.168.0.25/28          314562  mahmoud    NaN                  636"
      ]
     },
     "execution_count": 18,
     "metadata": {},
     "output_type": "execute_result"
    }
   ],
   "source": [
    "Data"
   ]
  },
  {
   "cell_type": "code",
   "execution_count": 33,
   "metadata": {
    "collapsed": true
   },
   "outputs": [],
   "source": [
    "networkIip=Data.network_ip.tolist()"
   ]
  },
  {
   "cell_type": "code",
   "execution_count": 19,
   "metadata": {
    "collapsed": true
   },
   "outputs": [],
   "source": [
    "def get_range(mask):\n",
    "    if mask[1] == 28:\n",
    "        return 16\n",
    "    elif mask[1]==29:\n",
    "        return 8\n",
    "    elif mask[1] ==30:\n",
    "        return 4\n",
    "    elif mask[1]== 32:\n",
    "        #print(\"pass\")\n",
    "        return 1\n",
    "    "
   ]
  },
  {
   "cell_type": "code",
   "execution_count": 27,
   "metadata": {
    "collapsed": false
   },
   "outputs": [
    {
     "data": {
      "text/plain": [
       "['192.168.1.22/',\n",
       " '192.168.1.23/',\n",
       " '192.168.1.24/',\n",
       " '192.168.1.25/',\n",
       " '192.168.1.26/',\n",
       " '192.168.1.27/',\n",
       " '192.168.1.28/',\n",
       " '192.168.1.29/',\n",
       " '192.168.1.30/',\n",
       " '192.168.1.31/',\n",
       " '192.168.1.32/',\n",
       " '192.168.1.33/',\n",
       " '192.168.1.34/',\n",
       " '192.168.1.35/',\n",
       " '192.168.1.36/',\n",
       " '192.168.1.37/']"
      ]
     },
     "execution_count": 27,
     "metadata": {},
     "output_type": "execute_result"
    }
   ],
   "source": [
    "def getr_ips(net):\n",
    "    mask=list(map(int,((net.split(\".\")[3]).split(\"/\"))))\n",
    "    #print(mask)\n",
    "    r=get_range(mask)\n",
    "    #print(\"we have  ============{}================ IPs in this network \".format(r))\n",
    "    range_ip=[]\n",
    "    if r:\n",
    "        #print(\"subnetMask {}\".format(net))\n",
    "        ip=net.split(\".\")[0:4]\n",
    "        ip[3]=ip[3].split(\"/\")[0]\n",
    "        range_ip.append(\".\".join(ip)+\"/\")\n",
    "        for i in range(r-1):\n",
    "            ip[3]=str(int(ip[3])+1)\n",
    "            #print(\".\".join(ip))\n",
    "            range_ip.append(\".\".join(ip)+\"/\")\n",
    "    return range_ip\n",
    "\n",
    "getr_ips(\"192.168.1.22/28\")"
   ]
  },
  {
   "cell_type": "code",
   "execution_count": 32,
   "metadata": {
    "collapsed": false
   },
   "outputs": [
    {
     "data": {
      "text/html": [
       "<div>\n",
       "<table border=\"1\" class=\"dataframe\">\n",
       "  <thead>\n",
       "    <tr style=\"text-align: right;\">\n",
       "      <th></th>\n",
       "      <th>id</th>\n",
       "      <th>network_ip</th>\n",
       "      <th>account_number</th>\n",
       "      <th>name</th>\n",
       "      <th>phone</th>\n",
       "      <th>allocated_subnet_id</th>\n",
       "    </tr>\n",
       "  </thead>\n",
       "  <tbody>\n",
       "  </tbody>\n",
       "</table>\n",
       "</div>"
      ],
      "text/plain": [
       "Empty DataFrame\n",
       "Columns: [id, network_ip, account_number, name, phone, allocated_subnet_id]\n",
       "Index: []"
      ]
     },
     "execution_count": 32,
     "metadata": {},
     "output_type": "execute_result"
    }
   ],
   "source": [
    "m=Data[Data.network_ip.str.contains(\"192.168.0.24/\")]\n",
    "#x,y=list(m.values[0])[1:3]\n",
    "m"
   ]
  },
  {
   "cell_type": "code",
   "execution_count": 36,
   "metadata": {
    "collapsed": false
   },
   "outputs": [
    {
     "data": {
      "text/plain": [
       "{'192.168.0.22/28': [('192.168.0.25/28', 314562)]}"
      ]
     },
     "execution_count": 36,
     "metadata": {},
     "output_type": "execute_result"
    }
   ],
   "source": [
    "dict1={}\n",
    "\n",
    "def get_conflict(mylist):\n",
    "    #dict1={}\n",
    "    for i in mylist:\n",
    "        ips=getr_ips(i)    \n",
    "        if len(ips) != 1 :\n",
    "            #print(\"we have  ============{}================ IPs in this network \".format(len(ips)))\n",
    "            #print(ips)\n",
    "            conflist=[]\n",
    "            for ip in ips :\n",
    "                #print(\"Comparing  ###########{}\".format(ip))\n",
    "                #print(str(i)[-2:])\n",
    "\n",
    "                if ip in str(mylist)and str(i)[0:-2] !=ip :\n",
    "                    #print(\"Conflict IPs ========={}\".format(ip))\n",
    "                    if  i not in dict1:\n",
    "                        dict1[str(i)]=[]\n",
    "                        #x,y=list((Data[Data.network_ip.str.contains(ip)]['account_number'])).values[0][1:3]\n",
    "                        x,y=list(Data[Data.network_ip.str.contains(ip)].values[0])[1:3]\n",
    "                    #print(\"{} conflict with {}\".format(ip,(str(i))))\n",
    "                    dict1[str(i)].append((x,y))\n",
    "                    #print(\"{} conflict with {}\".format(ip,(str(i))))\n",
    "                    \n",
    "                    \n",
    "get_conflict(networkIip)            \n",
    "dict1"
   ]
  }
 ],
 "metadata": {
  "kernelspec": {
   "display_name": "Python 3",
   "language": "python",
   "name": "python3"
  },
  "language_info": {
   "codemirror_mode": {
    "name": "ipython",
    "version": 3
   },
   "file_extension": ".py",
   "mimetype": "text/x-python",
   "name": "python",
   "nbconvert_exporter": "python",
   "pygments_lexer": "ipython3",
   "version": "3.5.2"
  }
 },
 "nbformat": 4,
 "nbformat_minor": 0
}
